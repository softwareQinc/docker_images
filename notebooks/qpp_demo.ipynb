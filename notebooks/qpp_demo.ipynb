{
 "cells": [
  {
   "cell_type": "code",
   "execution_count": null,
   "id": "f6903025",
   "metadata": {},
   "outputs": [],
   "source": [
    "from pyqpp import *\n",
    "from matplotlib import pyplot as plt"
   ]
  },
  {
   "cell_type": "code",
   "execution_count": null,
   "id": "e0945f31",
   "metadata": {},
   "outputs": [],
   "source": [
    "qc = QCircuit(1,1)\n",
    "qc.gate(gates.H, 0)\n",
    "qc.measure_all()"
   ]
  },
  {
   "cell_type": "code",
   "execution_count": null,
   "id": "28275bad",
   "metadata": {},
   "outputs": [],
   "source": [
    "qengine = QEngine(qc)\n",
    "qengine.execute(1000)"
   ]
  },
  {
   "cell_type": "code",
   "execution_count": null,
   "id": "4270344a",
   "metadata": {},
   "outputs": [],
   "source": [
    "stats = qengine.get_stats()\n",
    "plt.bar(stats.keys(), stats.values())\n",
    "plt.show()"
   ]
  },
  {
   "cell_type": "code",
   "execution_count": null,
   "id": "efa35014",
   "metadata": {},
   "outputs": [],
   "source": [
    "qc = QCircuit(2,2)\n",
    "qc.gate(gates.H, 0)\n",
    "qc.CTRL(gates.X, 0, 1)\n",
    "qc.measure_all()"
   ]
  },
  {
   "cell_type": "code",
   "execution_count": null,
   "id": "bec0b737",
   "metadata": {},
   "outputs": [],
   "source": [
    "qengine = QEngine(qc)\n",
    "qengine.execute(1000)"
   ]
  },
  {
   "cell_type": "code",
   "execution_count": null,
   "id": "5d2106f2",
   "metadata": {},
   "outputs": [],
   "source": [
    "stats = qengine.get_stats()\n",
    "plt.bar(stats.keys(), stats.values())\n",
    "plt.show()"
   ]
  },
  {
   "cell_type": "code",
   "execution_count": null,
   "id": "7d33e79e",
   "metadata": {},
   "outputs": [],
   "source": [
    "qengine = QNoisyEngine_QubitDepolarizingNoise(qc, QubitDepolarizingNoise(0.01))"
   ]
  },
  {
   "cell_type": "code",
   "execution_count": null,
   "id": "8992fbba",
   "metadata": {},
   "outputs": [],
   "source": [
    "qengine.execute(1000)"
   ]
  },
  {
   "cell_type": "code",
   "execution_count": null,
   "id": "9d2eb4c7",
   "metadata": {},
   "outputs": [],
   "source": [
    "stats = qengine.get_stats()\n",
    "plt.bar(stats.keys(), stats.values())\n",
    "plt.show()"
   ]
  }
 ],
 "metadata": {
  "kernelspec": {
   "display_name": "Python 3 (ipykernel)",
   "language": "python",
   "name": "python3"
  },
  "language_info": {
   "codemirror_mode": {
    "name": "ipython",
    "version": 3
   },
   "file_extension": ".py",
   "mimetype": "text/x-python",
   "name": "python",
   "nbconvert_exporter": "python",
   "pygments_lexer": "ipython3",
   "version": "3.10.6"
  }
 },
 "nbformat": 4,
 "nbformat_minor": 5
}
