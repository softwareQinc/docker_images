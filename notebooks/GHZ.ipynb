{
 "cells": [
  {
   "cell_type": "markdown",
   "id": "088a7960",
   "metadata": {},
   "source": [
    "### Import softwareQ packages"
   ]
  },
  {
   "cell_type": "code",
   "execution_count": 1,
   "id": "f8d02286",
   "metadata": {},
   "outputs": [],
   "source": [
    "import pystaq # staq quantum compiler\n",
    "import pyqpp  # Quantum++ simulation engine"
   ]
  },
  {
   "cell_type": "markdown",
   "id": "c8c66f11",
   "metadata": {},
   "source": [
    "### Parse some QASM code and expand broadcasted operations"
   ]
  },
  {
   "cell_type": "code",
   "execution_count": 2,
   "id": "aa3a16b7",
   "metadata": {},
   "outputs": [
    {
     "name": "stdout",
     "output_type": "stream",
     "text": [
      "OPENQASM 2.0;\n",
      "include \"qelib1.inc\";\n",
      "\n",
      "qreg q[3];\n",
      "creg c[3];\n",
      "h q[0];\n",
      "cx q[0],q[1];\n",
      "cx q[0],q[2];\n",
      "measure q -> c;\n",
      "\n"
     ]
    }
   ],
   "source": [
    "circuit = pystaq.parse_file(\"GHZ.qasm\")\n",
    "print(circuit)"
   ]
  },
  {
   "cell_type": "markdown",
   "id": "05c38d13",
   "metadata": {},
   "source": [
    "### Expand broadcasted operations"
   ]
  },
  {
   "cell_type": "code",
   "execution_count": 3,
   "id": "9038b1e2",
   "metadata": {},
   "outputs": [
    {
     "name": "stdout",
     "output_type": "stream",
     "text": [
      "OPENQASM 2.0;\n",
      "include \"qelib1.inc\";\n",
      "\n",
      "qreg q[3];\n",
      "creg c[3];\n",
      "h q[0];\n",
      "cx q[0],q[1];\n",
      "cx q[0],q[2];\n",
      "measure q[0] -> c[0];\n",
      "measure q[1] -> c[1];\n",
      "measure q[2] -> c[2];\n",
      "\n"
     ]
    }
   ],
   "source": [
    "pystaq.desugar(circuit)\n",
    "print(circuit)"
   ]
  },
  {
   "cell_type": "markdown",
   "id": "72e4e61b",
   "metadata": {},
   "source": [
    "### Create a test linear QPU with 3 qubits and write it to a JSON file"
   ]
  },
  {
   "cell_type": "code",
   "execution_count": 4,
   "id": "ab30b988",
   "metadata": {},
   "outputs": [
    {
     "name": "stdout",
     "output_type": "stream",
     "text": [
      "{\n",
      "  \"couplings\": [\n",
      "    {\n",
      "      \"control\": 0,\n",
      "      \"target\": 1\n",
      "    },\n",
      "    {\n",
      "      \"control\": 1,\n",
      "      \"target\": 0\n",
      "    },\n",
      "    {\n",
      "      \"control\": 1,\n",
      "      \"target\": 2\n",
      "    },\n",
      "    {\n",
      "      \"control\": 2,\n",
      "      \"target\": 1\n",
      "    }\n",
      "  ],\n",
      "  \"name\": \"Custom Device\",\n",
      "  \"qubits\": [\n",
      "    {\n",
      "      \"id\": 0\n",
      "    },\n",
      "    {\n",
      "      \"id\": 1\n",
      "    },\n",
      "    {\n",
      "      \"id\": 2\n",
      "    }\n",
      "  ]\n",
      "}\n"
     ]
    }
   ],
   "source": [
    "device = pystaq.Device(3)\n",
    "device.add_edge(0, 1)\n",
    "device.add_edge(1, 2)\n",
    "\n",
    "with open(\"device.json\", \"w\") as file:\n",
    "    file.write(str(device))\n",
    "    \n",
    "print(device)"
   ]
  },
  {
   "cell_type": "markdown",
   "id": "e5f4588e",
   "metadata": {},
   "source": [
    "### Map the circuit onto the QPU"
   ]
  },
  {
   "cell_type": "code",
   "execution_count": 5,
   "id": "da3afbba",
   "metadata": {},
   "outputs": [
    {
     "name": "stdout",
     "output_type": "stream",
     "text": [
      "OPENQASM 2.0;\n",
      "include \"qelib1.inc\";\n",
      "\n",
      "qreg q[3];\n",
      "creg c[3];\n",
      "U(pi/2,0,pi) q[0];\n",
      "CX q[0],q[1];\n",
      "CX q[0],q[1];\n",
      "CX q[1],q[0];\n",
      "CX q[0],q[1];\n",
      "CX q[1],q[2];\n",
      "measure q[1] -> c[0];\n",
      "measure q[0] -> c[1];\n",
      "measure q[2] -> c[2];\n",
      "\n"
     ]
    }
   ],
   "source": [
    "pystaq.map(prog=circuit, layout=\"linear\", mapper=\"swap\", device_json_file=\"device.json\")\n",
    "print(circuit)"
   ]
  },
  {
   "cell_type": "markdown",
   "id": "35d73984",
   "metadata": {},
   "source": [
    "### Try again, with a better mapping algorithm"
   ]
  },
  {
   "cell_type": "code",
   "execution_count": 6,
   "id": "1f9466dd",
   "metadata": {},
   "outputs": [
    {
     "name": "stdout",
     "output_type": "stream",
     "text": [
      "OPENQASM 2.0;\n",
      "include \"qelib1.inc\";\n",
      "\n",
      "qreg q[3];\n",
      "creg c[3];\n",
      "U(pi/2,0,pi) q[0];\n",
      "CX q[1],q[2];\n",
      "CX q[0],q[1];\n",
      "CX q[1],q[2];\n",
      "measure q[0] -> c[0];\n",
      "measure q[1] -> c[1];\n",
      "measure q[2] -> c[2];\n",
      "\n"
     ]
    }
   ],
   "source": [
    "# Since mapping happens in-place, we must reparse and reprocess the circuit\n",
    "circuit = pystaq.parse_file(\"GHZ.qasm\")\n",
    "pystaq.desugar(circuit)\n",
    "pystaq.map(prog=circuit, layout=\"linear\", mapper=\"steiner\", device_json_file=\"device.json\")\n",
    "print(circuit)"
   ]
  },
  {
   "cell_type": "markdown",
   "id": "51f3fa56",
   "metadata": {},
   "source": [
    "### Convert to a different API/QDK (e.g., Google's Cirq)"
   ]
  },
  {
   "cell_type": "code",
   "execution_count": 7,
   "id": "007e85c9",
   "metadata": {},
   "outputs": [
    {
     "name": "stdout",
     "output_type": "stream",
     "text": [
      "import cirq\n",
      "import numpy as np\n",
      "from cmath import pi,exp,sin,cos,tan,log as ln,sqrt\n",
      "\n",
      "class UGate(cirq.SingleQubitMatrixGate):\n",
      "    def __init__(self, theta, phi, lambd):\n",
      "        mat = np.matrix([[exp(-1j*(phi+lambd)/2)*cos(theta/2),\n",
      "                          -exp(-1j*(phi-lambd)/2)*sin(theta/2)],\n",
      "                         [exp(1j*(phi-lambd)/2)*sin(theta/2),\n",
      "                          exp(1j*(phi+lambd)/2)*cos(theta/2)]])\n",
      "        cirq.SingleQubitMatrixGate.__init__(self, mat)\n",
      "        self.theta = theta\n",
      "        self.phi = phi\n",
      "        self.lambd = lambd\n",
      "\n",
      "    def __str__(self):\n",
      "        return str(self.__class__.__name__) + \"(\" + str(self.theta) + \",\" \\\n",
      "               + str(self.phi) + \",\" + str(self.lambd) + \")\"\n",
      "\n",
      "    def __eq__(self, other):\n",
      "        if isinstance(other, self.__class__):\n",
      "            return self.theta == other.theta \\\n",
      "                   & self.phi == other.phi \\\n",
      "                   & self.lambd == other.lambd\n",
      "        else:\n",
      "            return False\n",
      "\n",
      "    def __ne__(self, other):\n",
      "        return not self.__eq__(other)\n",
      "\n",
      "q = [cirq.NamedQubit(\"q[{}]\".format(i)) for i in range(3)]\n",
      "circuit = cirq.Circuit()\n",
      "circuit.append([\n",
      "    UGate(pi/2, 0, pi)(q[0]),\n",
      "    cirq.CNOT(q[1], q[2]),\n",
      "    cirq.CNOT(q[0], q[1]),\n",
      "    cirq.CNOT(q[1], q[2]),\n",
      "    cirq.measure(q[0], key=\"c[0]\"),\n",
      "    cirq.measure(q[1], key=\"c[1]\"),\n",
      "    cirq.measure(q[2], key=\"c[2]\"),\n",
      "])\n",
      "\n"
     ]
    }
   ],
   "source": [
    "print(circuit.to_cirq())"
   ]
  },
  {
   "cell_type": "markdown",
   "id": "d270d990",
   "metadata": {},
   "source": [
    "### Write the circuit to file and run 100 simulations on a noisy engine"
   ]
  },
  {
   "cell_type": "code",
   "execution_count": 8,
   "id": "cc3b96f4",
   "metadata": {},
   "outputs": [
    {
     "name": "stdout",
     "output_type": "stream",
     "text": [
      "[QNoisyEngine]\n",
      "<QCircuit nq: 3, nc: 3, d: 2>\n",
      "last probs: [0.5, 1, 1]\n",
      "last dits: [0, 0, 0]\n",
      "stats:\n",
      "\treps: 100\n",
      "\toutcomes: 5\n",
      "\t[0 0 0]: 50\n",
      "\t[0 0 1]: 2\n",
      "\t[0 1 0]: 4\n",
      "\t[1 1 0]: 1\n",
      "\t[1 1 1]: 43\n"
     ]
    }
   ],
   "source": [
    "with open(\"circuit.qasm\", \"w\") as file:\n",
    "    file.write(str(circuit))\n",
    "    \n",
    "qcircuit = pyqpp.qasm.read_from_file(\"circuit.qasm\")\n",
    "\n",
    "qengine = pyqpp.QNoisyEngine(qcircuit, pyqpp.QubitDepolarizingNoise(0.01))\n",
    "result = qengine.execute(100)\n",
    "\n",
    "print(result)"
   ]
  }
 ],
 "metadata": {
  "kernelspec": {
   "display_name": "Python 3 (ipykernel)",
   "language": "python",
   "name": "python3"
  },
  "language_info": {
   "codemirror_mode": {
    "name": "ipython",
    "version": 3
   },
   "file_extension": ".py",
   "mimetype": "text/x-python",
   "name": "python",
   "nbconvert_exporter": "python",
   "pygments_lexer": "ipython3",
   "version": "3.8.10"
  }
 },
 "nbformat": 4,
 "nbformat_minor": 5
}
