{
 "cells": [
  {
   "cell_type": "markdown",
   "id": "088a7960",
   "metadata": {},
   "source": [
    "### Import packages"
   ]
  },
  {
   "cell_type": "code",
   "execution_count": 1,
   "id": "f8d02286",
   "metadata": {},
   "outputs": [],
   "source": [
    "import pystaq\n",
    "import pyqpp"
   ]
  },
  {
   "cell_type": "markdown",
   "id": "c8c66f11",
   "metadata": {},
   "source": [
    "### Parse some QASM code and expand broadcasted operations"
   ]
  },
  {
   "cell_type": "code",
   "execution_count": 18,
   "id": "aa3a16b7",
   "metadata": {},
   "outputs": [
    {
     "data": {
      "text/plain": [
       "OPENQASM 2.0;\n",
       "include \"qelib1.inc\";\n",
       "\n",
       "qreg q[3];\n",
       "creg c[3];\n",
       "h q[0];\n",
       "cx q[0],q[1];\n",
       "cx q[0],q[2];\n",
       "measure q[0] -> c[0];\n",
       "measure q[1] -> c[1];\n",
       "measure q[2] -> c[2];"
      ]
     },
     "execution_count": 18,
     "metadata": {},
     "output_type": "execute_result"
    }
   ],
   "source": [
    "src = \"OPENQASM 2.0; \\\n",
    "       include \\\"qelib1.inc\\\"; \\\n",
    "       \\\n",
    "       qreg q[3]; \\\n",
    "       creg c[3]; \\\n",
    "       \\\n",
    "       h q[0]; \\\n",
    "       cx q[0],q[1]; \\\n",
    "       cx q[0],q[2]; \\\n",
    "       \\\n",
    "       measure q -> c;\"\n",
    "\n",
    "circuit = pystaq.parse_str(src)\n",
    "pystaq.desugar(circuit)\n",
    "circuit"
   ]
  },
  {
   "cell_type": "markdown",
   "id": "72e4e61b",
   "metadata": {},
   "source": [
    "### Create a test device and write it to a json file"
   ]
  },
  {
   "cell_type": "code",
   "execution_count": 19,
   "id": "ab30b988",
   "metadata": {},
   "outputs": [],
   "source": [
    "device = pystaq.Device(3)\n",
    "device.add_edge(0, 1)\n",
    "device.add_edge(1, 2)\n",
    "device\n",
    "\n",
    "with open(\"device.json\", \"w\") as file:\n",
    "    file.write(str(device))"
   ]
  },
  {
   "cell_type": "markdown",
   "id": "e5f4588e",
   "metadata": {},
   "source": [
    "### Map the circuit onto the device"
   ]
  },
  {
   "cell_type": "code",
   "execution_count": 20,
   "id": "da3afbba",
   "metadata": {},
   "outputs": [
    {
     "data": {
      "text/plain": [
       "OPENQASM 2.0;\n",
       "include \"qelib1.inc\";\n",
       "\n",
       "qreg q[3];\n",
       "creg c[3];\n",
       "U(pi/2,0,pi) q[0];\n",
       "CX q[0],q[1];\n",
       "CX q[0],q[1];\n",
       "CX q[1],q[0];\n",
       "CX q[0],q[1];\n",
       "CX q[1],q[2];\n",
       "measure q[1] -> c[0];\n",
       "measure q[0] -> c[1];\n",
       "measure q[2] -> c[2];"
      ]
     },
     "execution_count": 20,
     "metadata": {},
     "output_type": "execute_result"
    }
   ],
   "source": [
    "pystaq.map(circuit, \"linear\", \"swap\", device_json=\"device.json\")\n",
    "circuit"
   ]
  },
  {
   "cell_type": "markdown",
   "id": "35d73984",
   "metadata": {},
   "source": [
    "### Try again, with a better mapping algorithm"
   ]
  },
  {
   "cell_type": "code",
   "execution_count": 21,
   "id": "1f9466dd",
   "metadata": {},
   "outputs": [
    {
     "data": {
      "text/plain": [
       "OPENQASM 2.0;\n",
       "include \"qelib1.inc\";\n",
       "\n",
       "qreg q[3];\n",
       "creg c[3];\n",
       "U(pi/2,0,pi) q[0];\n",
       "CX q[1],q[0];\n",
       "CX q[0],q[1];\n",
       "CX q[1],q[2];\n",
       "measure q[1] -> c[0];\n",
       "measure q[0] -> c[1];\n",
       "measure q[2] -> c[2];"
      ]
     },
     "execution_count": 21,
     "metadata": {},
     "output_type": "execute_result"
    }
   ],
   "source": [
    "pystaq.map(circuit, \"linear\", \"steiner\", device_json=\"device.json\")\n",
    "circuit"
   ]
  },
  {
   "cell_type": "markdown",
   "id": "d270d990",
   "metadata": {},
   "source": [
    "### Write the circuit to and run 100 simulations"
   ]
  },
  {
   "cell_type": "code",
   "execution_count": 24,
   "id": "cc3b96f4",
   "metadata": {},
   "outputs": [
    {
     "data": {
      "text/plain": [
       "[QEngine]\n",
       "<QCircuit nq: 3, nc: 3, d: 2>\n",
       "last probs: [0.5, 1, 1]\n",
       "last dits: [1, 1, 1]\n",
       "stats:\n",
       "\treps: 100\n",
       "\toutcomes: 2\n",
       "\t[0 0 0]: 42\n",
       "\t[1 1 1]: 58"
      ]
     },
     "execution_count": 24,
     "metadata": {},
     "output_type": "execute_result"
    }
   ],
   "source": [
    "with open(\"circuit.qasm\", \"w\") as file:\n",
    "    file.write(str(circuit))\n",
    "    \n",
    "qcircuit = pyqpp.qasm.read_from_file(\"circuit.qasm\")\n",
    "pyqpp.QEngine(qcircuit).execute(100)"
   ]
  }
 ],
 "metadata": {
  "kernelspec": {
   "display_name": "Python 3 (ipykernel)",
   "language": "python",
   "name": "python3"
  },
  "language_info": {
   "codemirror_mode": {
    "name": "ipython",
    "version": 3
   },
   "file_extension": ".py",
   "mimetype": "text/x-python",
   "name": "python",
   "nbconvert_exporter": "python",
   "pygments_lexer": "ipython3",
   "version": "3.8.10"
  }
 },
 "nbformat": 4,
 "nbformat_minor": 5
}
